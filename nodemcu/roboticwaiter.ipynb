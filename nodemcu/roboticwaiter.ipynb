{
 "cells": [
  {
   "cell_type": "code",
   "execution_count": 13,
   "metadata": {},
   "outputs": [],
   "source": [
    "import json\n",
    "\n",
    "# Read the JSON data from a file\n",
    "with open('../astardistancesdata.json', 'r') as file:\n",
    "    data = json.load(file)\n",
    "\n",
    "# # Iterate through each item in the data\n",
    "# for item in data:\n",
    "#     for key, value in item.items():\n",
    "        # print(f\"Key: {key}, Value: {value}\")\n",
    "\n",
    "# Function to find an item by key\n",
    "def find_item_by_key(data, search_key):\n",
    "    for item in data:\n",
    "        if search_key in item:\n",
    "            return item\n",
    "    return None\n",
    "\n",
    "\n"
   ]
  },
  {
   "cell_type": "code",
   "execution_count": null,
   "metadata": {},
   "outputs": [],
   "source": []
  },
  {
   "cell_type": "code",
   "execution_count": 14,
   "metadata": {},
   "outputs": [],
   "source": [
    "def determine_direction(point1, point2):\n",
    "    x1, y1 = point1\n",
    "    x2, y2 = point2\n",
    "    if x1 == x2:\n",
    "        if y2 < y1:\n",
    "            return \"Up\"\n",
    "        else:\n",
    "            return \"Down\"\n",
    "    elif y1 == y2:\n",
    "        if x2 > x1:\n",
    "            return \"Right\"\n",
    "        else:\n",
    "            return \"Left\"\n",
    "    return \"Unknown\"  # Default case if no other conditions are met\n",
    "\n",
    "def determine_directions(points):\n",
    "    directions = []\n",
    "\n",
    "    if len(points) < 2:\n",
    "        return directions  # Not enough points to determine direction\n",
    "\n",
    "    # Determine initial direction\n",
    "    initial_direction = determine_direction(points[0], points[1])\n",
    "    directions.append(initial_direction)\n",
    "    \n",
    "    previous_direction = initial_direction\n",
    "\n",
    "    for i in range(1, len(points) - 1):\n",
    "        current_point = points[i]\n",
    "        next_point = points[i + 1]\n",
    "        \n",
    "        current_direction = determine_direction(current_point, next_point)\n",
    "\n",
    "        if current_direction == previous_direction:\n",
    "            directions.append(\"Continue\")\n",
    "        else:\n",
    "            directions.append(current_direction)\n",
    "            previous_direction = current_direction\n",
    "\n",
    "    return directions\n",
    "\n",
    "# Example input\n",
    "points = [[12, 13], [11, 13], [10, 13], [10, 12], [10, 11], [9, 11], [9, 10], [9, 9], [9, 8], [9, 7], [8, 7], [7, 7], [7, 8]]\n",
    "\n",
    "\n"
   ]
  },
  {
   "cell_type": "code",
   "execution_count": 26,
   "metadata": {},
   "outputs": [
    {
     "name": "stdout",
     "output_type": "stream",
     "text": [
      "['Left', 'Continue', 'Continue', 'Continue', 'Up', 'Left', 'Up']\n"
     ]
    }
   ],
   "source": [
    "search_key = 'k2'\n",
    "result = find_item_by_key(data, search_key)\n",
    "\n",
    "# if result:\n",
    "#     # print(f\"Found item with key '{search_key}':\")\n",
    "#     # print(json.dumps(result, indent=4))\n",
    "#     print(result.get('cost'))\n",
    "#     print(result.get(search_key))\n",
    "# else:\n",
    "#     print(f\"No item found with key '{search_key}'\")\n",
    "\n",
    "print(determine_directions(result.get(search_key)))\n",
    "# print(result)"
   ]
  }
 ],
 "metadata": {
  "kernelspec": {
   "display_name": "Python 3",
   "language": "python",
   "name": "python3"
  },
  "language_info": {
   "codemirror_mode": {
    "name": "ipython",
    "version": 3
   },
   "file_extension": ".py",
   "mimetype": "text/x-python",
   "name": "python",
   "nbconvert_exporter": "python",
   "pygments_lexer": "ipython3",
   "version": "3.12.3"
  }
 },
 "nbformat": 4,
 "nbformat_minor": 2
}
