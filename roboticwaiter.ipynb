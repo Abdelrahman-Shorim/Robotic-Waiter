{
 "cells": [
  {
   "cell_type": "code",
   "execution_count": 1,
   "metadata": {},
   "outputs": [
    {
     "name": "stdout",
     "output_type": "stream",
     "text": [
      "Key: k0, Value: [[11, 9], [12, 9], [12, 8], [12, 7], [11, 7], [10, 7], [10, 6], [10, 5], [9, 5], [8, 5], [8, 6], [7, 6], [6, 6], [6, 5], [5, 5]]\n",
      "Key: cost, Value: 14\n",
      "Key: k1, Value: [[11, 9], [12, 9], [12, 8], [12, 7], [11, 7], [10, 7], [10, 6], [10, 5], [9, 5], [8, 5], [8, 6], [7, 6], [6, 6], [6, 5], [6, 4], [6, 3], [5, 3], [4, 3], [3, 3], [3, 4], [2, 4], [2, 5], [1, 5], [0, 5], [0, 6], [0, 7], [0, 8], [0, 9], [0, 10], [0, 11], [1, 11], [2, 11], [2, 10], [3, 10], [3, 9], [4, 9], [5, 9], [5, 10], [5, 11], [5, 12], [6, 12]]\n",
      "Key: cost, Value: 40\n",
      "Key: k2, Value: [[11, 9], [12, 9], [12, 8], [12, 7], [12, 6], [12, 5], [12, 4], [12, 3], [13, 3], [14, 3], [15, 3], [16, 3]]\n",
      "Key: cost, Value: 11\n",
      "Key: 01, Value: [[6, 5], [6, 4], [6, 3], [5, 3], [4, 3], [3, 3], [3, 4], [2, 4], [2, 5], [1, 5], [0, 5], [0, 6], [0, 7], [0, 8], [0, 9], [0, 10], [0, 11], [1, 11], [2, 11], [2, 10], [3, 10], [3, 9], [4, 9], [5, 9], [5, 10], [5, 11], [5, 12], [6, 12]]\n",
      "Key: cost, Value: 27\n",
      "Key: 02, Value: [[6, 5], [6, 6], [7, 6], [8, 6], [8, 5], [9, 5], [10, 5], [11, 5], [12, 5], [12, 4], [12, 3], [13, 3], [14, 3], [15, 3], [16, 3]]\n",
      "Key: cost, Value: 14\n",
      "Key: 10, Value: [[5, 12], [5, 11], [5, 10], [5, 9], [4, 9], [3, 9], [2, 9], [2, 10], [2, 11], [1, 11], [0, 11], [0, 10], [0, 9], [0, 8], [0, 7], [0, 6], [0, 5], [1, 5], [2, 5], [2, 4], [3, 4], [3, 3], [4, 3], [5, 3], [6, 3], [6, 4], [6, 5], [5, 5]]\n",
      "Key: cost, Value: 27\n",
      "Key: 12, Value: [[5, 12], [5, 11], [5, 10], [5, 9], [4, 9], [3, 9], [3, 10], [2, 10], [2, 11], [1, 11], [0, 11], [0, 10], [0, 9], [0, 8], [0, 7], [0, 6], [0, 5], [1, 5], [2, 5], [2, 4], [3, 4], [3, 3], [4, 3], [5, 3], [6, 3], [6, 4], [6, 5], [6, 6], [7, 6], [8, 6], [8, 5], [9, 5], [10, 5], [11, 5], [12, 5], [12, 4], [12, 3], [13, 3], [14, 3], [15, 3], [16, 3]]\n",
      "Key: cost, Value: 40\n",
      "Key: 20, Value: [[15, 3], [14, 3], [13, 3], [12, 3], [12, 4], [11, 4], [10, 4], [9, 4], [8, 4], [8, 5], [8, 6], [7, 6], [6, 6], [6, 5], [5, 5]]\n",
      "Key: cost, Value: 14\n",
      "Key: 21, Value: [[15, 3], [14, 3], [13, 3], [12, 3], [12, 4], [12, 5], [11, 5], [10, 5], [9, 5], [8, 5], [8, 6], [7, 6], [6, 6], [6, 5], [6, 4], [6, 3], [5, 3], [4, 3], [3, 3], [3, 4], [2, 4], [2, 5], [1, 5], [0, 5], [0, 6], [0, 7], [0, 8], [0, 9], [0, 10], [0, 11], [1, 11], [2, 11], [2, 10], [3, 10], [3, 9], [4, 9], [5, 9], [5, 10], [5, 11], [5, 12], [6, 12]]\n",
      "Key: cost, Value: 40\n"
     ]
    }
   ],
   "source": [
    "import json\n",
    "\n",
    "# Read the JSON data from a file\n",
    "with open('astardistancesdata.json', 'r') as file:\n",
    "    data = json.load(file)\n",
    "\n",
    "# Iterate through each item in the data\n",
    "for item in data:\n",
    "    for key, value in item.items():\n",
    "        print(f\"Key: {key}, Value: {value}\")\n"
   ]
  },
  {
   "cell_type": "code",
   "execution_count": 2,
   "metadata": {},
   "outputs": [],
   "source": [
    "# Function to find an item by key\n",
    "def find_item_by_key(data, search_key):\n",
    "    for item in data:\n",
    "        if search_key in item:\n",
    "            return item\n",
    "    return None"
   ]
  },
  {
   "cell_type": "code",
   "execution_count": 4,
   "metadata": {},
   "outputs": [
    {
     "name": "stdout",
     "output_type": "stream",
     "text": [
      "40\n",
      "[[11, 9], [12, 9], [12, 8], [12, 7], [11, 7], [10, 7], [10, 6], [10, 5], [9, 5], [8, 5], [8, 6], [7, 6], [6, 6], [6, 5], [6, 4], [6, 3], [5, 3], [4, 3], [3, 3], [3, 4], [2, 4], [2, 5], [1, 5], [0, 5], [0, 6], [0, 7], [0, 8], [0, 9], [0, 10], [0, 11], [1, 11], [2, 11], [2, 10], [3, 10], [3, 9], [4, 9], [5, 9], [5, 10], [5, 11], [5, 12], [6, 12]]\n",
      "[11, 9]\n",
      "11\n",
      "9\n"
     ]
    }
   ],
   "source": [
    "search_key = 'k1'\n",
    "result = find_item_by_key(data, search_key)\n",
    "\n",
    "if result:\n",
    "    # print(f\"Found item with key '{search_key}':\")\n",
    "    # print(json.dumps(result, indent=4))\n",
    "    print(result.get('cost'))\n",
    "    print(result.get(search_key))\n",
    "    print(result.get(search_key)[0])\n",
    "    print(result.get(search_key)[0][0])\n",
    "    print(result.get(search_key)[0][1])\n",
    "else:\n",
    "    print(f\"No item found with key '{search_key}'\")\n"
   ]
  }
 ],
 "metadata": {
  "kernelspec": {
   "display_name": "Python 3",
   "language": "python",
   "name": "python3"
  },
  "language_info": {
   "codemirror_mode": {
    "name": "ipython",
    "version": 3
   },
   "file_extension": ".py",
   "mimetype": "text/x-python",
   "name": "python",
   "nbconvert_exporter": "python",
   "pygments_lexer": "ipython3",
   "version": "3.12.3"
  }
 },
 "nbformat": 4,
 "nbformat_minor": 2
}
